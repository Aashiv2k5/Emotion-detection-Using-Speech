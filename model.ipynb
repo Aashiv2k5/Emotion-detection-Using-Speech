{
 "cells": [
  {
   "cell_type": "markdown",
   "id": "ef15466b-003f-4952-a194-9f8b75cd074a",
   "metadata": {},
   "source": [
    "# Deep Learning: Speech Emotion Recognition Project"
   ]
  },
  {
   "cell_type": "markdown",
   "id": "69141b84-268b-479b-aa83-7fcd125af8c6",
   "metadata": {},
   "source": [
    "## Importing Necessary Libraries"
   ]
  },
  {
   "cell_type": "code",
   "execution_count": 1,
   "id": "d68a0a18-f91c-49dc-b6ae-41e4f7173ec6",
   "metadata": {},
   "outputs": [],
   "source": [
    "# Importing necessary libraries\n",
    "import os  # Operating system functionalities\n",
    "import librosa  # Audio processing library\n",
    "import wave  # Module for reading and writing WAV files\n",
    "import numpy as np  # Numerical operations library\n",
    "import pandas as pd  # Data manipulation library\n",
    "import matplotlib.pyplot as plt  # Plotting library\n",
    "\n",
    "# Importing components for Dividing into the Training Set and the Testing Set\n",
    "from sklearn.model_selection import train_test_split  # Splitting the dataset for training and testing\n",
    "\n",
    "# Importing components for Long Short-Term Memory (LSTM) Classifier\n",
    "import keras  # High-level neural networks API\n",
    "from tensorflow.keras.utils import to_categorical  # Utility for one-hot encoding\n",
    "from keras.models import Sequential  # Sequential model for stacking layers\n",
    "from keras.layers import *  # Different layers for building neural networks\n",
    "from tensorflow.keras.optimizers import RMSprop\n",
    " # Optimizer for training the model\n"
   ]
  },
  {
   "cell_type": "markdown",
   "id": "c7223fd3-6c56-40c1-bbd1-5bc313263615",
   "metadata": {},
   "source": [
    "As I start my Real-Time Speech Emotion Recognition project, I begin by importing the necessary libraries and components for building and evaluating machine learning models.\n",
    "\n",
    "For the Deep Learning part of my project, I bring in components related to the Long Short-Term Memory (LSTM) Classifier using Keras.\n",
    "\n",
    "These imported libraries and components form the foundation for my Real-Time Speech Emotion Recognition project, enabling me to handle audio data, split datasets, build LSTM models, and assess their performance."
   ]
  },
  {
   "cell_type": "markdown",
   "id": "96fd3c96-5fdf-4604-aef1-ec9fb0969d6e",
   "metadata": {},
   "source": [
    "## Ravdess Emotional Speech Audio"
   ]
  },
  {
   "cell_type": "markdown",
   "id": "e7002d6f-2e98-4308-bbf6-f99ca388ca43",
   "metadata": {},
   "source": [
    "As I embark on developing my Real-Time Speech Emotion Recognition project, I've opted to utilize the \"ravdess-emotional-speech-audio\" dataset due to its richness and suitability for training emotion recognition models.\n",
    "\n",
    "```python\n",
    "# Ryerson Audio-Visual Database of Emotional Speech and Song (ravdess)\n",
    "```\n",
    "\n",
    "The \"ravdess-emotional-speech-audio\" dataset is a resource I've carefully chosen for its comprehensive coverage of emotional speech. It is a creation of Ryerson University and boasts a total of 1440 audio files, each lasting approximately 3-5 seconds.\n",
    "\n",
    "```python\n",
    "# Diverse Emotional States\n",
    "```\n",
    "\n",
    "One of the strengths of this dataset is its diverse set of emotional states, including neutral, calm, happy, sad, angry, fearful, disgust, and surprised. Professional actors were involved in the creation, and they followed scripted scenarios to express these emotions, ensuring a controlled and standardized representation.\n",
    "\n",
    "```python\n",
    "# Actor Diversity\n",
    "```\n",
    "\n",
    "The dataset encompasses 24 actors, split evenly between male and female, contributing to the richness of vocal characteristics, accents, and expressive styles. This diversity is instrumental in building a robust Speech Emotion Recognition (SER) model capable of handling variations encountered in real-world scenarios.\n",
    "\n",
    "```python\n",
    "# Audio Characteristics\n",
    "```\n",
    "\n",
    "The audio recordings are sampled at a rate of 48 kHz and saved in the WAV file format, maintaining a high-quality standard suitable for training deep neural networks. Additionally, the dataset provides a corresponding CSV file containing metadata such as emotion labels, actor information, file paths, and file names. This metadata is invaluable for data preprocessing and model evaluation.\n",
    "\n",
    "```python\n",
    "# Focus on Speech Segments\n",
    "```\n",
    "\n",
    "Given my project's emphasis on real-time speech emotion recognition, I've chosen to concentrate specifically on the speech segments within the dataset. This focused approach aligns more closely with the application domain, making it particularly relevant for applications like virtual assistants, customer service, and mental health support.\n",
    "\n",
    "```python\n",
    "# Conclusion\n",
    "```\n",
    "\n",
    "In summary, the \"ravdess-emotional-speech-audio\" dataset stands out as a comprehensive and well-annotated resource for training and evaluating Real-Time Speech Emotion Recognition models. Its diverse emotions, multiple actors, and high-quality audio recordings make it an ideal choice for developing a robust and effective emotion recognition system tailored to my project's objectives."
   ]
  },
  {
   "cell_type": "markdown",
   "id": "cf5bcb39-43bf-4994-90cd-961caa39d1f8",
   "metadata": {},
   "source": [
    "## Extracting Mel-frequency cepstral coefficients"
   ]
  },
  {
   "cell_type": "code",
   "execution_count": 2,
   "id": "c233594c-4617-4399-913c-af55bab5e8c7",
   "metadata": {},
   "outputs": [],
   "source": [
    "def extract_mfcc(wav_file_name):\n",
    "    '''This function retrieves the mean of MFCC features from an input WAV file located \n",
    "    at the specified path. The input is the path to the WAV file, and the output is \n",
    "    the resulting MFCC features.'''\n",
    "    \n",
    "    # Loading the WAV file using librosa and obtaining the audio signal (y) and sampling rate (sr)\n",
    "    y, sr = librosa.load(wav_file_name)\n",
    "    \n",
    "    # Extracting MFCC features with a total of 40 coefficients, and computing the mean across dimensions\n",
    "    mfccs = np.mean(librosa.feature.mfcc(y=y, sr=sr, n_mfcc=40).T, axis=0)\n",
    "    \n",
    "    # Returning the resulting MFCC features\n",
    "    return mfccs"
   ]
  },
  {
   "cell_type": "code",
   "execution_count": 3,
   "id": "e51df859-c76b-41f6-9722-5f478e53a2b0",
   "metadata": {},
   "outputs": [],
   "source": [
    "# Lists to store labels and extracted MFCC features for the Ravdess emotional speech dataset\n",
    "ravdess_speech_labels = []  \n",
    "ravdess_speech_data = []\n",
    "\n",
    "# Iterating through the files in the specified directory\n",
    "for dirname, _, filenames in os.walk('./ravdess-emotional-speech-audio/'):\n",
    "    for filename in filenames:\n",
    "        # Extracting emotion label from the filename and converting to an integer\n",
    "        ravdess_speech_labels.append(int(filename[7:8]) - 1)\n",
    "        \n",
    "        # Obtaining the full path of the WAV file\n",
    "        wav_file_name = os.path.join(dirname, filename)\n",
    "        \n",
    "        # Extracting MFCC features from the WAV file using the previously defined function\n",
    "        ravdess_speech_data.append(extract_mfcc(wav_file_name))\n"
   ]
  },
  {
   "cell_type": "markdown",
   "id": "6878cba7-88bb-4d7d-b7fb-6c44be449d51",
   "metadata": {},
   "source": [
    "In my Real-Time Speech Emotion Recognition project, I have a crucial function called `extract_mfcc` that plays a central role. This function takes the path to a WAV file as input and retrieves the mean of Mel-Frequency Cepstral Coefficients (MFCC) features. It utilizes the librosa library to load the WAV file, obtaining the audio signal (`y`) and the sampling rate (`sr`).\n",
    "\n",
    "Next, I use librosa again to extract the MFCC features. I specify parameters such as the number of coefficients (`n_mfcc`) as 40. The resulting features are then transposed and the mean is computed across dimensions.\n",
    "\n",
    "Finally, the function returns the computed MFCC features.\n",
    "\n",
    "Moving on to the main portion of the code, I'm populating lists (`ravdess_speech_labels` and `ravdess_speech_data`) to store emotion labels and the corresponding MFCC features for each WAV file in the Ravdess emotional speech dataset.\n",
    "\n",
    "This loop navigates through the files in the specified directory, extracting emotion labels from the filenames and converting them to integers. It then obtains the full path of each WAV file and extracts the corresponding MFCC features using the previously defined `extract_mfcc` function. The resulting lists are crucial components for training and evaluating my Real-Time Speech Emotion Recognition model."
   ]
  },
  {
   "cell_type": "markdown",
   "id": "c514e6d6-80c2-434f-a720-e9a6fd19a056",
   "metadata": {},
   "source": [
    "## Converting Data and Labels to Categorical Arrays"
   ]
  },
  {
   "cell_type": "code",
   "execution_count": 4,
   "id": "e3b5fa95-6e8e-41fd-85d2-cc5f0df86170",
   "metadata": {},
   "outputs": [
    {
     "data": {
      "text/plain": [
       "((2880, 40), (2880, 8))"
      ]
     },
     "execution_count": 4,
     "metadata": {},
     "output_type": "execute_result"
    }
   ],
   "source": [
    "# Converting the list of MFCC features into a NumPy array\n",
    "ravdess_speech_data_array = np.asarray(ravdess_speech_data)\n",
    "\n",
    "# Converting the list of emotion labels into a NumPy array\n",
    "ravdess_speech_label_array = np.array(ravdess_speech_labels)\n",
    "\n",
    "# Converting the integer labels into categorical format using one-hot encoding\n",
    "labels_categorical = to_categorical(ravdess_speech_label_array)\n",
    "\n",
    "# Displaying the shapes of the MFCC data array and the categorical label array\n",
    "ravdess_speech_data_array.shape, labels_categorical.shape"
   ]
  },
  {
   "cell_type": "markdown",
   "id": "f2b5bbc9-c2c5-42ea-bb3a-371ab6cc345b",
   "metadata": {},
   "source": [
    "In my Real-Time Speech Emotion Recognition project, I've reached a crucial stage where I'm preparing the data for training my machine learning model.\n",
    "\n",
    "Here, I convert the list of extracted Mel-Frequency Cepstral Coefficients (MFCC) features (`ravdess_speech_data`) into a NumPy array (`ravdess_speech_data_array`). This transformation is essential for efficient data handling and compatibility with machine learning algorithms.\n",
    "\n",
    "Similarly, I convert the list of emotion labels (`ravdess_speech_labels`) into a NumPy array (`ravdess_speech_label_array`). This array will serve as the ground truth labels for training my model.\n",
    "\n",
    "Finally, I display the shapes of the MFCC data array (`ravdess_speech_data_array`) and the categorical label array (`labels_categorical`). This is a quick check to ensure that the data has been correctly processed and is ready for training the Real-Time Speech Emotion Recognition model. The shapes provide insight into the dimensions of the data, a crucial step in confirming the data's suitability for model training."
   ]
  },
  {
   "cell_type": "markdown",
   "id": "909c8cca-83d8-443e-a3db-2738eb673068",
   "metadata": {},
   "source": [
    "## Dividing the dataset into training, validation, and testing subsets."
   ]
  },
  {
   "cell_type": "code",
   "execution_count": 5,
   "id": "2334ffd4-1f17-4ad7-ace4-4e796cdd5ba2",
   "metadata": {},
   "outputs": [],
   "source": [
    "# Splitting the dataset into training and testing sets using train_test_split\n",
    "x_train, x_test, y_train, y_test = train_test_split(np.array(ravdess_speech_data_array),\n",
    "                                                    labels_categorical, test_size=0.2,\n",
    "                                                    random_state=9)\n",
    "\n",
    "# Calculating the total number of samples in the dataset\n",
    "number_of_samples = ravdess_speech_data_array.shape[0]\n",
    "\n",
    "# Determining the number of samples for training, validation, and testing sets\n",
    "training_samples = int(number_of_samples * 0.8)\n",
    "validation_samples = int(number_of_samples * 0.1)\n",
    "test_samples = int(number_of_samples * 0.1)\n"
   ]
  },
  {
   "cell_type": "markdown",
   "id": "fdb7f6dc-030a-4b5a-8f18-422f1e789777",
   "metadata": {},
   "source": [
    "In my Real-Time Speech Emotion Recognition project, I've now reached the crucial step of splitting my dataset into training and testing sets. I achieve this using the `train_test_split` function, ensuring that the features (`x_train` and `x_test`) and labels (`y_train` and `y_test`) are appropriately assigned. I've opted for an 80-20 split, designating 20% of the data for testing, and I've set a random seed (`random_state=9`) for reproducibility.\n",
    "\n",
    "\n",
    "After this split, I proceed to calculate the total number of samples in my dataset (`number_of_samples`). This information is crucial for determining the number of samples I'll allocate for training, validation, and testing sets based on a predefined distribution ratio.\n",
    "\n",
    "Next, I determine the number of samples for each set. For training, I allocate 80% of the total samples; for validation and testing, I assign 10% each.\n",
    "\n",
    "\n",
    "This meticulous allocation ensures that I have a well-balanced dataset for training and evaluating my Real-Time Speech Emotion Recognition model."
   ]
  },
  {
   "cell_type": "markdown",
   "id": "84958778-d8d2-480e-847f-2b7fdfcadf40",
   "metadata": {},
   "source": [
    "## Defining the LSTM Model"
   ]
  },
  {
   "cell_type": "code",
   "execution_count": 6,
   "id": "32f1a01f-a7e9-4aa2-96a5-81a0fabf7a5e",
   "metadata": {},
   "outputs": [],
   "source": [
    "# Function to create an LSTM model for Speech Emotion Recognition\n",
    "\n",
    "def create_model_LSTM():\n",
    "    # Initializing a sequential model\n",
    "    model = Sequential()\n",
    "    \n",
    "    # Adding an LSTM layer with 128 units, not returning sequences, and input shape of (40, 1)\n",
    "    model.add(LSTM(128, return_sequences=False, input_shape=(40, 1)))\n",
    "    \n",
    "    # Adding a Dense layer with 64 units\n",
    "    model.add(Dense(64))\n",
    "    \n",
    "    # Adding a Dropout layer with a dropout rate of 40%\n",
    "    model.add(Dropout(0.4))\n",
    "    \n",
    "    # Adding an Activation layer with ReLU activation function\n",
    "    model.add(Activation('relu'))\n",
    "    \n",
    "    # Adding another Dense layer with 32 units\n",
    "    model.add(Dense(32))\n",
    "    \n",
    "    # Adding a Dropout layer with a dropout rate of 40%\n",
    "    model.add(Dropout(0.4))\n",
    "    \n",
    "    # Adding an Activation layer with ReLU activation function\n",
    "    model.add(Activation('relu'))\n",
    "    \n",
    "    # Adding another Dense layer with 8 units\n",
    "    model.add(Dense(8))\n",
    "    \n",
    "    # Adding an Activation layer with softmax activation function for multiclass classification\n",
    "    model.add(Activation('softmax'))\n",
    "    \n",
    "    # Compiling the model with categorical crossentropy loss, Adam optimizer, and accuracy metric\n",
    "    model.compile(loss='categorical_crossentropy', optimizer='Adam', metrics=['accuracy'])\n",
    "\n",
    "    \n",
    "    # Returning the compiled model\n",
    "    model.summary()\n",
    "    return model\n"
   ]
  },
  {
   "cell_type": "markdown",
   "id": "04ed5a38-bd66-4577-87c2-d09329f7c620",
   "metadata": {},
   "source": [
    "In my Real-Time Speech Emotion Recognition project, I've created a dedicated function, `create_model_LSTM`, to define the architecture of my LSTM (Long Short-Term Memory) neural network for the task at hand.\n",
    "\n",
    "```python\n",
    "# Initializing a sequential model\n",
    "model = Sequential()\n",
    "```\n",
    "I begin by initializing a sequential model, which allows me to build the neural network layer by layer in a sequential manner.\n",
    "\n",
    "```python\n",
    "# Adding an LSTM layer with 128 units, not returning sequences, and input shape of (40, 1)\n",
    "model.add(LSTM(128, return_sequences=False, input_shape=(40, 1)))\n",
    "```\n",
    "The first layer is an LSTM layer with 128 units. It doesn't return sequences, and it expects input data with a shape of (40, 1), which aligns with the Mel-Frequency Cepstral Coefficients (MFCC) features.\n",
    "\n",
    "```python\n",
    "# Adding a Dense layer with 64 units\n",
    "model.add(Dense(64))\n",
    "```\n",
    "Following the LSTM layer, I add a Dense layer with 64 units, which introduces a level of complexity to the network.\n",
    "\n",
    "```python\n",
    "# Adding a Dropout layer with a dropout rate of 40%\n",
    "model.add(Dropout(0.4))\n",
    "```\n",
    "To prevent overfitting, I include a Dropout layer with a dropout rate of 40%, which randomly drops a proportion of connections during training.\n",
    "\n",
    "```python\n",
    "# Adding an Activation layer with ReLU activation function\n",
    "model.add(Activation('relu'))\n",
    "```\n",
    "An Activation layer with the Rectified Linear Unit (ReLU) activation function is added to introduce non-linearity to the model.\n",
    "\n",
    "```python\n",
    "# Adding another Dense layer with 32 units\n",
    "model.add(Dense(32))\n",
    "```\n",
    "I continue by adding another Dense layer with 32 units, further shaping the network's complexity.\n",
    "\n",
    "```python\n",
    "# Adding a Dropout layer with a dropout rate of 40%\n",
    "model.add(Dropout(0.4))\n",
    "```\n",
    "Again, to mitigate overfitting, I include another Dropout layer with a 40% dropout rate.\n",
    "\n",
    "```python\n",
    "# Adding an Activation layer with ReLU activation function\n",
    "model.add(Activation('relu'))\n",
    "```\n",
    "Another Activation layer with the ReLU activation function follows to enhance the non-linear characteristics of the model.\n",
    "\n",
    "```python\n",
    "# Adding another Dense layer with 8 units\n",
    "model.add(Dense(8))\n",
    "```\n",
    "I introduce another Dense layer with 8 units, potentially capturing higher-level features in the data.\n",
    "\n",
    "```python\n",
    "# Adding an Activation layer with softmax activation function for multiclass classification\n",
    "model.add(Activation('softmax'))\n",
    "```\n",
    "The final layer is an Activation layer with the softmax activation function, suitable for multiclass classification tasks like emotion recognition.\n",
    "\n",
    "```python\n",
    "# Compiling the model with categorical crossentropy loss, Adam optimizer, and accuracy metric\n",
    "model.compile(loss='categorical_crossentropy', optimizer='Adam', metrics=['accuracy'])\n",
    "```\n",
    "I compile the model with categorical crossentropy loss, the Adam optimizer, and use accuracy as the metric to optimize during training.\n",
    "\n",
    "```python\n",
    "# Returning the compiled model\n",
    "return model\n",
    "```\n",
    "The function concludes by returning the compiled LSTM model, ready for training and evaluating on the Real-Time Speech Emotion Recognition dataset."
   ]
  },
  {
   "cell_type": "markdown",
   "id": "1da44d03-b393-4dbe-97e1-6d02af46f9cf",
   "metadata": {},
   "source": [
    "## Training the Deep Learning LSTM Model"
   ]
  },
  {
   "cell_type": "code",
   "execution_count": 7,
   "id": "e1a2da35-85fc-4f14-9ac4-e271390e2271",
   "metadata": {},
   "outputs": [
    {
     "name": "stderr",
     "output_type": "stream",
     "text": [
      "C:\\Users\\aashi\\AppData\\Local\\Programs\\Python\\Python312\\Lib\\site-packages\\keras\\src\\layers\\rnn\\rnn.py:199: UserWarning: Do not pass an `input_shape`/`input_dim` argument to a layer. When using Sequential models, prefer using an `Input(shape)` object as the first layer in the model instead.\n",
      "  super().__init__(**kwargs)\n"
     ]
    },
    {
     "data": {
      "text/html": [
       "<pre style=\"white-space:pre;overflow-x:auto;line-height:normal;font-family:Menlo,'DejaVu Sans Mono',consolas,'Courier New',monospace\"><span style=\"font-weight: bold\">Model: \"sequential\"</span>\n",
       "</pre>\n"
      ],
      "text/plain": [
       "\u001b[1mModel: \"sequential\"\u001b[0m\n"
      ]
     },
     "metadata": {},
     "output_type": "display_data"
    },
    {
     "data": {
      "text/html": [
       "<pre style=\"white-space:pre;overflow-x:auto;line-height:normal;font-family:Menlo,'DejaVu Sans Mono',consolas,'Courier New',monospace\">┏━━━━━━━━━━━━━━━━━━━━━━━━━━━━━━━━━━━━━━┳━━━━━━━━━━━━━━━━━━━━━━━━━━━━━┳━━━━━━━━━━━━━━━━━┓\n",
       "┃<span style=\"font-weight: bold\"> Layer (type)                         </span>┃<span style=\"font-weight: bold\"> Output Shape                </span>┃<span style=\"font-weight: bold\">         Param # </span>┃\n",
       "┡━━━━━━━━━━━━━━━━━━━━━━━━━━━━━━━━━━━━━━╇━━━━━━━━━━━━━━━━━━━━━━━━━━━━━╇━━━━━━━━━━━━━━━━━┩\n",
       "│ lstm (<span style=\"color: #0087ff; text-decoration-color: #0087ff\">LSTM</span>)                          │ (<span style=\"color: #00d7ff; text-decoration-color: #00d7ff\">None</span>, <span style=\"color: #00af00; text-decoration-color: #00af00\">128</span>)                 │          <span style=\"color: #00af00; text-decoration-color: #00af00\">66,560</span> │\n",
       "├──────────────────────────────────────┼─────────────────────────────┼─────────────────┤\n",
       "│ dense (<span style=\"color: #0087ff; text-decoration-color: #0087ff\">Dense</span>)                        │ (<span style=\"color: #00d7ff; text-decoration-color: #00d7ff\">None</span>, <span style=\"color: #00af00; text-decoration-color: #00af00\">64</span>)                  │           <span style=\"color: #00af00; text-decoration-color: #00af00\">8,256</span> │\n",
       "├──────────────────────────────────────┼─────────────────────────────┼─────────────────┤\n",
       "│ dropout (<span style=\"color: #0087ff; text-decoration-color: #0087ff\">Dropout</span>)                    │ (<span style=\"color: #00d7ff; text-decoration-color: #00d7ff\">None</span>, <span style=\"color: #00af00; text-decoration-color: #00af00\">64</span>)                  │               <span style=\"color: #00af00; text-decoration-color: #00af00\">0</span> │\n",
       "├──────────────────────────────────────┼─────────────────────────────┼─────────────────┤\n",
       "│ activation (<span style=\"color: #0087ff; text-decoration-color: #0087ff\">Activation</span>)              │ (<span style=\"color: #00d7ff; text-decoration-color: #00d7ff\">None</span>, <span style=\"color: #00af00; text-decoration-color: #00af00\">64</span>)                  │               <span style=\"color: #00af00; text-decoration-color: #00af00\">0</span> │\n",
       "├──────────────────────────────────────┼─────────────────────────────┼─────────────────┤\n",
       "│ dense_1 (<span style=\"color: #0087ff; text-decoration-color: #0087ff\">Dense</span>)                      │ (<span style=\"color: #00d7ff; text-decoration-color: #00d7ff\">None</span>, <span style=\"color: #00af00; text-decoration-color: #00af00\">32</span>)                  │           <span style=\"color: #00af00; text-decoration-color: #00af00\">2,080</span> │\n",
       "├──────────────────────────────────────┼─────────────────────────────┼─────────────────┤\n",
       "│ dropout_1 (<span style=\"color: #0087ff; text-decoration-color: #0087ff\">Dropout</span>)                  │ (<span style=\"color: #00d7ff; text-decoration-color: #00d7ff\">None</span>, <span style=\"color: #00af00; text-decoration-color: #00af00\">32</span>)                  │               <span style=\"color: #00af00; text-decoration-color: #00af00\">0</span> │\n",
       "├──────────────────────────────────────┼─────────────────────────────┼─────────────────┤\n",
       "│ activation_1 (<span style=\"color: #0087ff; text-decoration-color: #0087ff\">Activation</span>)            │ (<span style=\"color: #00d7ff; text-decoration-color: #00d7ff\">None</span>, <span style=\"color: #00af00; text-decoration-color: #00af00\">32</span>)                  │               <span style=\"color: #00af00; text-decoration-color: #00af00\">0</span> │\n",
       "├──────────────────────────────────────┼─────────────────────────────┼─────────────────┤\n",
       "│ dense_2 (<span style=\"color: #0087ff; text-decoration-color: #0087ff\">Dense</span>)                      │ (<span style=\"color: #00d7ff; text-decoration-color: #00d7ff\">None</span>, <span style=\"color: #00af00; text-decoration-color: #00af00\">8</span>)                   │             <span style=\"color: #00af00; text-decoration-color: #00af00\">264</span> │\n",
       "├──────────────────────────────────────┼─────────────────────────────┼─────────────────┤\n",
       "│ activation_2 (<span style=\"color: #0087ff; text-decoration-color: #0087ff\">Activation</span>)            │ (<span style=\"color: #00d7ff; text-decoration-color: #00d7ff\">None</span>, <span style=\"color: #00af00; text-decoration-color: #00af00\">8</span>)                   │               <span style=\"color: #00af00; text-decoration-color: #00af00\">0</span> │\n",
       "└──────────────────────────────────────┴─────────────────────────────┴─────────────────┘\n",
       "</pre>\n"
      ],
      "text/plain": [
       "┏━━━━━━━━━━━━━━━━━━━━━━━━━━━━━━━━━━━━━━┳━━━━━━━━━━━━━━━━━━━━━━━━━━━━━┳━━━━━━━━━━━━━━━━━┓\n",
       "┃\u001b[1m \u001b[0m\u001b[1mLayer (type)                        \u001b[0m\u001b[1m \u001b[0m┃\u001b[1m \u001b[0m\u001b[1mOutput Shape               \u001b[0m\u001b[1m \u001b[0m┃\u001b[1m \u001b[0m\u001b[1m        Param #\u001b[0m\u001b[1m \u001b[0m┃\n",
       "┡━━━━━━━━━━━━━━━━━━━━━━━━━━━━━━━━━━━━━━╇━━━━━━━━━━━━━━━━━━━━━━━━━━━━━╇━━━━━━━━━━━━━━━━━┩\n",
       "│ lstm (\u001b[38;5;33mLSTM\u001b[0m)                          │ (\u001b[38;5;45mNone\u001b[0m, \u001b[38;5;34m128\u001b[0m)                 │          \u001b[38;5;34m66,560\u001b[0m │\n",
       "├──────────────────────────────────────┼─────────────────────────────┼─────────────────┤\n",
       "│ dense (\u001b[38;5;33mDense\u001b[0m)                        │ (\u001b[38;5;45mNone\u001b[0m, \u001b[38;5;34m64\u001b[0m)                  │           \u001b[38;5;34m8,256\u001b[0m │\n",
       "├──────────────────────────────────────┼─────────────────────────────┼─────────────────┤\n",
       "│ dropout (\u001b[38;5;33mDropout\u001b[0m)                    │ (\u001b[38;5;45mNone\u001b[0m, \u001b[38;5;34m64\u001b[0m)                  │               \u001b[38;5;34m0\u001b[0m │\n",
       "├──────────────────────────────────────┼─────────────────────────────┼─────────────────┤\n",
       "│ activation (\u001b[38;5;33mActivation\u001b[0m)              │ (\u001b[38;5;45mNone\u001b[0m, \u001b[38;5;34m64\u001b[0m)                  │               \u001b[38;5;34m0\u001b[0m │\n",
       "├──────────────────────────────────────┼─────────────────────────────┼─────────────────┤\n",
       "│ dense_1 (\u001b[38;5;33mDense\u001b[0m)                      │ (\u001b[38;5;45mNone\u001b[0m, \u001b[38;5;34m32\u001b[0m)                  │           \u001b[38;5;34m2,080\u001b[0m │\n",
       "├──────────────────────────────────────┼─────────────────────────────┼─────────────────┤\n",
       "│ dropout_1 (\u001b[38;5;33mDropout\u001b[0m)                  │ (\u001b[38;5;45mNone\u001b[0m, \u001b[38;5;34m32\u001b[0m)                  │               \u001b[38;5;34m0\u001b[0m │\n",
       "├──────────────────────────────────────┼─────────────────────────────┼─────────────────┤\n",
       "│ activation_1 (\u001b[38;5;33mActivation\u001b[0m)            │ (\u001b[38;5;45mNone\u001b[0m, \u001b[38;5;34m32\u001b[0m)                  │               \u001b[38;5;34m0\u001b[0m │\n",
       "├──────────────────────────────────────┼─────────────────────────────┼─────────────────┤\n",
       "│ dense_2 (\u001b[38;5;33mDense\u001b[0m)                      │ (\u001b[38;5;45mNone\u001b[0m, \u001b[38;5;34m8\u001b[0m)                   │             \u001b[38;5;34m264\u001b[0m │\n",
       "├──────────────────────────────────────┼─────────────────────────────┼─────────────────┤\n",
       "│ activation_2 (\u001b[38;5;33mActivation\u001b[0m)            │ (\u001b[38;5;45mNone\u001b[0m, \u001b[38;5;34m8\u001b[0m)                   │               \u001b[38;5;34m0\u001b[0m │\n",
       "└──────────────────────────────────────┴─────────────────────────────┴─────────────────┘\n"
      ]
     },
     "metadata": {},
     "output_type": "display_data"
    },
    {
     "data": {
      "text/html": [
       "<pre style=\"white-space:pre;overflow-x:auto;line-height:normal;font-family:Menlo,'DejaVu Sans Mono',consolas,'Courier New',monospace\"><span style=\"font-weight: bold\"> Total params: </span><span style=\"color: #00af00; text-decoration-color: #00af00\">77,160</span> (301.41 KB)\n",
       "</pre>\n"
      ],
      "text/plain": [
       "\u001b[1m Total params: \u001b[0m\u001b[38;5;34m77,160\u001b[0m (301.41 KB)\n"
      ]
     },
     "metadata": {},
     "output_type": "display_data"
    },
    {
     "data": {
      "text/html": [
       "<pre style=\"white-space:pre;overflow-x:auto;line-height:normal;font-family:Menlo,'DejaVu Sans Mono',consolas,'Courier New',monospace\"><span style=\"font-weight: bold\"> Trainable params: </span><span style=\"color: #00af00; text-decoration-color: #00af00\">77,160</span> (301.41 KB)\n",
       "</pre>\n"
      ],
      "text/plain": [
       "\u001b[1m Trainable params: \u001b[0m\u001b[38;5;34m77,160\u001b[0m (301.41 KB)\n"
      ]
     },
     "metadata": {},
     "output_type": "display_data"
    },
    {
     "data": {
      "text/html": [
       "<pre style=\"white-space:pre;overflow-x:auto;line-height:normal;font-family:Menlo,'DejaVu Sans Mono',consolas,'Courier New',monospace\"><span style=\"font-weight: bold\"> Non-trainable params: </span><span style=\"color: #00af00; text-decoration-color: #00af00\">0</span> (0.00 B)\n",
       "</pre>\n"
      ],
      "text/plain": [
       "\u001b[1m Non-trainable params: \u001b[0m\u001b[38;5;34m0\u001b[0m (0.00 B)\n"
      ]
     },
     "metadata": {},
     "output_type": "display_data"
    }
   ],
   "source": [
    "LSTM_model = create_model_LSTM()"
   ]
  },
  {
   "cell_type": "code",
   "execution_count": 8,
   "id": "410f21b7-014d-41b9-8bd6-292ff38f2710",
   "metadata": {
    "scrolled": true
   },
   "outputs": [
    {
     "name": "stdout",
     "output_type": "stream",
     "text": [
      "Epoch 1/121\n",
      "\u001b[1m72/72\u001b[0m \u001b[32m━━━━━━━━━━━━━━━━━━━━\u001b[0m\u001b[37m\u001b[0m \u001b[1m2s\u001b[0m 13ms/step - accuracy: 0.1493 - loss: 2.0681 - val_accuracy: 0.1667 - val_loss: 2.0269\n",
      "Epoch 2/121\n",
      "\u001b[1m72/72\u001b[0m \u001b[32m━━━━━━━━━━━━━━━━━━━━\u001b[0m\u001b[37m\u001b[0m \u001b[1m1s\u001b[0m 10ms/step - accuracy: 0.2001 - loss: 2.0086 - val_accuracy: 0.1910 - val_loss: 1.9589\n",
      "Epoch 3/121\n",
      "\u001b[1m72/72\u001b[0m \u001b[32m━━━━━━━━━━━━━━━━━━━━\u001b[0m\u001b[37m\u001b[0m \u001b[1m1s\u001b[0m 10ms/step - accuracy: 0.2266 - loss: 1.9653 - val_accuracy: 0.3021 - val_loss: 1.8817\n",
      "Epoch 4/121\n",
      "\u001b[1m72/72\u001b[0m \u001b[32m━━━━━━━━━━━━━━━━━━━━\u001b[0m\u001b[37m\u001b[0m \u001b[1m1s\u001b[0m 10ms/step - accuracy: 0.2439 - loss: 1.9279 - val_accuracy: 0.3056 - val_loss: 1.8727\n",
      "Epoch 5/121\n",
      "\u001b[1m72/72\u001b[0m \u001b[32m━━━━━━━━━━━━━━━━━━━━\u001b[0m\u001b[37m\u001b[0m \u001b[1m1s\u001b[0m 10ms/step - accuracy: 0.2418 - loss: 1.9015 - val_accuracy: 0.3056 - val_loss: 1.8177\n",
      "Epoch 6/121\n",
      "\u001b[1m72/72\u001b[0m \u001b[32m━━━━━━━━━━━━━━━━━━━━\u001b[0m\u001b[37m\u001b[0m \u001b[1m1s\u001b[0m 10ms/step - accuracy: 0.2834 - loss: 1.8635 - val_accuracy: 0.2743 - val_loss: 1.8281\n",
      "Epoch 7/121\n",
      "\u001b[1m72/72\u001b[0m \u001b[32m━━━━━━━━━━━━━━━━━━━━\u001b[0m\u001b[37m\u001b[0m \u001b[1m1s\u001b[0m 10ms/step - accuracy: 0.2760 - loss: 1.8290 - val_accuracy: 0.3160 - val_loss: 1.8029\n",
      "Epoch 8/121\n",
      "\u001b[1m72/72\u001b[0m \u001b[32m━━━━━━━━━━━━━━━━━━━━\u001b[0m\u001b[37m\u001b[0m \u001b[1m1s\u001b[0m 10ms/step - accuracy: 0.2852 - loss: 1.8192 - val_accuracy: 0.3438 - val_loss: 1.7848\n",
      "Epoch 9/121\n",
      "\u001b[1m72/72\u001b[0m \u001b[32m━━━━━━━━━━━━━━━━━━━━\u001b[0m\u001b[37m\u001b[0m \u001b[1m1s\u001b[0m 11ms/step - accuracy: 0.2839 - loss: 1.8150 - val_accuracy: 0.3264 - val_loss: 1.7735\n",
      "Epoch 10/121\n",
      "\u001b[1m72/72\u001b[0m \u001b[32m━━━━━━━━━━━━━━━━━━━━\u001b[0m\u001b[37m\u001b[0m \u001b[1m1s\u001b[0m 11ms/step - accuracy: 0.3090 - loss: 1.7919 - val_accuracy: 0.3056 - val_loss: 1.7746\n",
      "Epoch 11/121\n",
      "\u001b[1m72/72\u001b[0m \u001b[32m━━━━━━━━━━━━━━━━━━━━\u001b[0m\u001b[37m\u001b[0m \u001b[1m1s\u001b[0m 12ms/step - accuracy: 0.3155 - loss: 1.7831 - val_accuracy: 0.2986 - val_loss: 1.7615\n",
      "Epoch 12/121\n",
      "\u001b[1m72/72\u001b[0m \u001b[32m━━━━━━━━━━━━━━━━━━━━\u001b[0m\u001b[37m\u001b[0m \u001b[1m1s\u001b[0m 11ms/step - accuracy: 0.3108 - loss: 1.7714 - val_accuracy: 0.3194 - val_loss: 1.7412\n",
      "Epoch 13/121\n",
      "\u001b[1m72/72\u001b[0m \u001b[32m━━━━━━━━━━━━━━━━━━━━\u001b[0m\u001b[37m\u001b[0m \u001b[1m1s\u001b[0m 10ms/step - accuracy: 0.3095 - loss: 1.7645 - val_accuracy: 0.3299 - val_loss: 1.7561\n",
      "Epoch 14/121\n",
      "\u001b[1m72/72\u001b[0m \u001b[32m━━━━━━━━━━━━━━━━━━━━\u001b[0m\u001b[37m\u001b[0m \u001b[1m1s\u001b[0m 10ms/step - accuracy: 0.3251 - loss: 1.7360 - val_accuracy: 0.2917 - val_loss: 1.7463\n",
      "Epoch 15/121\n",
      "\u001b[1m72/72\u001b[0m \u001b[32m━━━━━━━━━━━━━━━━━━━━\u001b[0m\u001b[37m\u001b[0m \u001b[1m1s\u001b[0m 10ms/step - accuracy: 0.3359 - loss: 1.7039 - val_accuracy: 0.3472 - val_loss: 1.7152\n",
      "Epoch 16/121\n",
      "\u001b[1m72/72\u001b[0m \u001b[32m━━━━━━━━━━━━━━━━━━━━\u001b[0m\u001b[37m\u001b[0m \u001b[1m1s\u001b[0m 10ms/step - accuracy: 0.3333 - loss: 1.6945 - val_accuracy: 0.3472 - val_loss: 1.6713\n",
      "Epoch 17/121\n",
      "\u001b[1m72/72\u001b[0m \u001b[32m━━━━━━━━━━━━━━━━━━━━\u001b[0m\u001b[37m\u001b[0m \u001b[1m1s\u001b[0m 11ms/step - accuracy: 0.3325 - loss: 1.7002 - val_accuracy: 0.3299 - val_loss: 1.6328\n",
      "Epoch 18/121\n",
      "\u001b[1m72/72\u001b[0m \u001b[32m━━━━━━━━━━━━━━━━━━━━\u001b[0m\u001b[37m\u001b[0m \u001b[1m1s\u001b[0m 11ms/step - accuracy: 0.3503 - loss: 1.6613 - val_accuracy: 0.3611 - val_loss: 1.6237\n",
      "Epoch 19/121\n",
      "\u001b[1m72/72\u001b[0m \u001b[32m━━━━━━━━━━━━━━━━━━━━\u001b[0m\u001b[37m\u001b[0m \u001b[1m1s\u001b[0m 11ms/step - accuracy: 0.3594 - loss: 1.6597 - val_accuracy: 0.3299 - val_loss: 1.6236\n",
      "Epoch 20/121\n",
      "\u001b[1m72/72\u001b[0m \u001b[32m━━━━━━━━━━━━━━━━━━━━\u001b[0m\u001b[37m\u001b[0m \u001b[1m1s\u001b[0m 10ms/step - accuracy: 0.3689 - loss: 1.6212 - val_accuracy: 0.3785 - val_loss: 1.6195\n",
      "Epoch 21/121\n",
      "\u001b[1m72/72\u001b[0m \u001b[32m━━━━━━━━━━━━━━━━━━━━\u001b[0m\u001b[37m\u001b[0m \u001b[1m1s\u001b[0m 10ms/step - accuracy: 0.3633 - loss: 1.6242 - val_accuracy: 0.3576 - val_loss: 1.6426\n",
      "Epoch 22/121\n",
      "\u001b[1m72/72\u001b[0m \u001b[32m━━━━━━━━━━━━━━━━━━━━\u001b[0m\u001b[37m\u001b[0m \u001b[1m1s\u001b[0m 11ms/step - accuracy: 0.3819 - loss: 1.6046 - val_accuracy: 0.3819 - val_loss: 1.5757\n",
      "Epoch 23/121\n",
      "\u001b[1m72/72\u001b[0m \u001b[32m━━━━━━━━━━━━━━━━━━━━\u001b[0m\u001b[37m\u001b[0m \u001b[1m1s\u001b[0m 11ms/step - accuracy: 0.3932 - loss: 1.5660 - val_accuracy: 0.3854 - val_loss: 1.5745\n",
      "Epoch 24/121\n",
      "\u001b[1m72/72\u001b[0m \u001b[32m━━━━━━━━━━━━━━━━━━━━\u001b[0m\u001b[37m\u001b[0m \u001b[1m1s\u001b[0m 11ms/step - accuracy: 0.3993 - loss: 1.5361 - val_accuracy: 0.4340 - val_loss: 1.5270\n",
      "Epoch 25/121\n",
      "\u001b[1m72/72\u001b[0m \u001b[32m━━━━━━━━━━━━━━━━━━━━\u001b[0m\u001b[37m\u001b[0m \u001b[1m1s\u001b[0m 11ms/step - accuracy: 0.4245 - loss: 1.4895 - val_accuracy: 0.4236 - val_loss: 1.5104\n",
      "Epoch 26/121\n",
      "\u001b[1m72/72\u001b[0m \u001b[32m━━━━━━━━━━━━━━━━━━━━\u001b[0m\u001b[37m\u001b[0m \u001b[1m1s\u001b[0m 11ms/step - accuracy: 0.4201 - loss: 1.5013 - val_accuracy: 0.4340 - val_loss: 1.4709\n",
      "Epoch 27/121\n",
      "\u001b[1m72/72\u001b[0m \u001b[32m━━━━━━━━━━━━━━━━━━━━\u001b[0m\u001b[37m\u001b[0m \u001b[1m1s\u001b[0m 11ms/step - accuracy: 0.4076 - loss: 1.5198 - val_accuracy: 0.4132 - val_loss: 1.5541\n",
      "Epoch 28/121\n",
      "\u001b[1m72/72\u001b[0m \u001b[32m━━━━━━━━━━━━━━━━━━━━\u001b[0m\u001b[37m\u001b[0m \u001b[1m1s\u001b[0m 11ms/step - accuracy: 0.4440 - loss: 1.4457 - val_accuracy: 0.4097 - val_loss: 1.4637\n",
      "Epoch 29/121\n",
      "\u001b[1m72/72\u001b[0m \u001b[32m━━━━━━━━━━━━━━━━━━━━\u001b[0m\u001b[37m\u001b[0m \u001b[1m1s\u001b[0m 10ms/step - accuracy: 0.4466 - loss: 1.4397 - val_accuracy: 0.4410 - val_loss: 1.4945\n",
      "Epoch 30/121\n",
      "\u001b[1m72/72\u001b[0m \u001b[32m━━━━━━━━━━━━━━━━━━━━\u001b[0m\u001b[37m\u001b[0m \u001b[1m1s\u001b[0m 10ms/step - accuracy: 0.4640 - loss: 1.4386 - val_accuracy: 0.4306 - val_loss: 1.4850\n",
      "Epoch 31/121\n",
      "\u001b[1m72/72\u001b[0m \u001b[32m━━━━━━━━━━━━━━━━━━━━\u001b[0m\u001b[37m\u001b[0m \u001b[1m1s\u001b[0m 11ms/step - accuracy: 0.4562 - loss: 1.3993 - val_accuracy: 0.4549 - val_loss: 1.3862\n",
      "Epoch 32/121\n",
      "\u001b[1m72/72\u001b[0m \u001b[32m━━━━━━━━━━━━━━━━━━━━\u001b[0m\u001b[37m\u001b[0m \u001b[1m1s\u001b[0m 11ms/step - accuracy: 0.4757 - loss: 1.3607 - val_accuracy: 0.4167 - val_loss: 1.4307\n",
      "Epoch 33/121\n",
      "\u001b[1m72/72\u001b[0m \u001b[32m━━━━━━━━━━━━━━━━━━━━\u001b[0m\u001b[37m\u001b[0m \u001b[1m1s\u001b[0m 11ms/step - accuracy: 0.4900 - loss: 1.3404 - val_accuracy: 0.4618 - val_loss: 1.3688\n",
      "Epoch 34/121\n",
      "\u001b[1m72/72\u001b[0m \u001b[32m━━━━━━━━━━━━━━━━━━━━\u001b[0m\u001b[37m\u001b[0m \u001b[1m1s\u001b[0m 11ms/step - accuracy: 0.5030 - loss: 1.2920 - val_accuracy: 0.4826 - val_loss: 1.3229\n",
      "Epoch 35/121\n",
      "\u001b[1m72/72\u001b[0m \u001b[32m━━━━━━━━━━━━━━━━━━━━\u001b[0m\u001b[37m\u001b[0m \u001b[1m1s\u001b[0m 10ms/step - accuracy: 0.5078 - loss: 1.2910 - val_accuracy: 0.4688 - val_loss: 1.3380\n",
      "Epoch 36/121\n",
      "\u001b[1m72/72\u001b[0m \u001b[32m━━━━━━━━━━━━━━━━━━━━\u001b[0m\u001b[37m\u001b[0m \u001b[1m1s\u001b[0m 11ms/step - accuracy: 0.5291 - loss: 1.2445 - val_accuracy: 0.5069 - val_loss: 1.2686\n",
      "Epoch 37/121\n",
      "\u001b[1m72/72\u001b[0m \u001b[32m━━━━━━━━━━━━━━━━━━━━\u001b[0m\u001b[37m\u001b[0m \u001b[1m1s\u001b[0m 11ms/step - accuracy: 0.5312 - loss: 1.2261 - val_accuracy: 0.4931 - val_loss: 1.3419\n",
      "Epoch 38/121\n",
      "\u001b[1m72/72\u001b[0m \u001b[32m━━━━━━━━━━━━━━━━━━━━\u001b[0m\u001b[37m\u001b[0m \u001b[1m1s\u001b[0m 11ms/step - accuracy: 0.5551 - loss: 1.2030 - val_accuracy: 0.4896 - val_loss: 1.3379\n",
      "Epoch 39/121\n",
      "\u001b[1m72/72\u001b[0m \u001b[32m━━━━━━━━━━━━━━━━━━━━\u001b[0m\u001b[37m\u001b[0m \u001b[1m1s\u001b[0m 11ms/step - accuracy: 0.5673 - loss: 1.1726 - val_accuracy: 0.4792 - val_loss: 1.2676\n",
      "Epoch 40/121\n",
      "\u001b[1m72/72\u001b[0m \u001b[32m━━━━━━━━━━━━━━━━━━━━\u001b[0m\u001b[37m\u001b[0m \u001b[1m1s\u001b[0m 10ms/step - accuracy: 0.5651 - loss: 1.1548 - val_accuracy: 0.5208 - val_loss: 1.2478\n",
      "Epoch 41/121\n",
      "\u001b[1m72/72\u001b[0m \u001b[32m━━━━━━━━━━━━━━━━━━━━\u001b[0m\u001b[37m\u001b[0m \u001b[1m1s\u001b[0m 11ms/step - accuracy: 0.5764 - loss: 1.1492 - val_accuracy: 0.5139 - val_loss: 1.2908\n",
      "Epoch 42/121\n",
      "\u001b[1m72/72\u001b[0m \u001b[32m━━━━━━━━━━━━━━━━━━━━\u001b[0m\u001b[37m\u001b[0m \u001b[1m1s\u001b[0m 10ms/step - accuracy: 0.5903 - loss: 1.0922 - val_accuracy: 0.5174 - val_loss: 1.1914\n",
      "Epoch 43/121\n",
      "\u001b[1m72/72\u001b[0m \u001b[32m━━━━━━━━━━━━━━━━━━━━\u001b[0m\u001b[37m\u001b[0m \u001b[1m1s\u001b[0m 10ms/step - accuracy: 0.6055 - loss: 1.0838 - val_accuracy: 0.5764 - val_loss: 1.1289\n",
      "Epoch 44/121\n",
      "\u001b[1m72/72\u001b[0m \u001b[32m━━━━━━━━━━━━━━━━━━━━\u001b[0m\u001b[37m\u001b[0m \u001b[1m1s\u001b[0m 11ms/step - accuracy: 0.6159 - loss: 1.0576 - val_accuracy: 0.5278 - val_loss: 1.1477\n",
      "Epoch 45/121\n",
      "\u001b[1m72/72\u001b[0m \u001b[32m━━━━━━━━━━━━━━━━━━━━\u001b[0m\u001b[37m\u001b[0m \u001b[1m1s\u001b[0m 10ms/step - accuracy: 0.5898 - loss: 1.1092 - val_accuracy: 0.5312 - val_loss: 1.1596\n",
      "Epoch 46/121\n",
      "\u001b[1m72/72\u001b[0m \u001b[32m━━━━━━━━━━━━━━━━━━━━\u001b[0m\u001b[37m\u001b[0m \u001b[1m1s\u001b[0m 11ms/step - accuracy: 0.6411 - loss: 1.0021 - val_accuracy: 0.6111 - val_loss: 1.0744\n",
      "Epoch 47/121\n",
      "\u001b[1m72/72\u001b[0m \u001b[32m━━━━━━━━━━━━━━━━━━━━\u001b[0m\u001b[37m\u001b[0m \u001b[1m1s\u001b[0m 10ms/step - accuracy: 0.6328 - loss: 1.0029 - val_accuracy: 0.6007 - val_loss: 1.0423\n",
      "Epoch 48/121\n",
      "\u001b[1m72/72\u001b[0m \u001b[32m━━━━━━━━━━━━━━━━━━━━\u001b[0m\u001b[37m\u001b[0m \u001b[1m1s\u001b[0m 10ms/step - accuracy: 0.6510 - loss: 0.9225 - val_accuracy: 0.6285 - val_loss: 1.0010\n",
      "Epoch 49/121\n",
      "\u001b[1m72/72\u001b[0m \u001b[32m━━━━━━━━━━━━━━━━━━━━\u001b[0m\u001b[37m\u001b[0m \u001b[1m1s\u001b[0m 11ms/step - accuracy: 0.6654 - loss: 0.8992 - val_accuracy: 0.6181 - val_loss: 1.0186\n",
      "Epoch 50/121\n",
      "\u001b[1m72/72\u001b[0m \u001b[32m━━━━━━━━━━━━━━━━━━━━\u001b[0m\u001b[37m\u001b[0m \u001b[1m1s\u001b[0m 10ms/step - accuracy: 0.6571 - loss: 0.9061 - val_accuracy: 0.5938 - val_loss: 1.0428\n",
      "Epoch 51/121\n",
      "\u001b[1m72/72\u001b[0m \u001b[32m━━━━━━━━━━━━━━━━━━━━\u001b[0m\u001b[37m\u001b[0m \u001b[1m1s\u001b[0m 11ms/step - accuracy: 0.6359 - loss: 0.9926 - val_accuracy: 0.5764 - val_loss: 1.1402\n",
      "Epoch 52/121\n",
      "\u001b[1m72/72\u001b[0m \u001b[32m━━━━━━━━━━━━━━━━━━━━\u001b[0m\u001b[37m\u001b[0m \u001b[1m1s\u001b[0m 10ms/step - accuracy: 0.6411 - loss: 0.9773 - val_accuracy: 0.6424 - val_loss: 0.9660\n",
      "Epoch 53/121\n",
      "\u001b[1m72/72\u001b[0m \u001b[32m━━━━━━━━━━━━━━━━━━━━\u001b[0m\u001b[37m\u001b[0m \u001b[1m1s\u001b[0m 11ms/step - accuracy: 0.7040 - loss: 0.8333 - val_accuracy: 0.6562 - val_loss: 0.8955\n",
      "Epoch 54/121\n",
      "\u001b[1m72/72\u001b[0m \u001b[32m━━━━━━━━━━━━━━━━━━━━\u001b[0m\u001b[37m\u001b[0m \u001b[1m1s\u001b[0m 11ms/step - accuracy: 0.7188 - loss: 0.7644 - val_accuracy: 0.6944 - val_loss: 0.8346\n",
      "Epoch 55/121\n",
      "\u001b[1m72/72\u001b[0m \u001b[32m━━━━━━━━━━━━━━━━━━━━\u001b[0m\u001b[37m\u001b[0m \u001b[1m1s\u001b[0m 11ms/step - accuracy: 0.7218 - loss: 0.7644 - val_accuracy: 0.6840 - val_loss: 0.8703\n",
      "Epoch 56/121\n",
      "\u001b[1m72/72\u001b[0m \u001b[32m━━━━━━━━━━━━━━━━━━━━\u001b[0m\u001b[37m\u001b[0m \u001b[1m1s\u001b[0m 11ms/step - accuracy: 0.7322 - loss: 0.7171 - val_accuracy: 0.6910 - val_loss: 0.8379\n",
      "Epoch 57/121\n",
      "\u001b[1m72/72\u001b[0m \u001b[32m━━━━━━━━━━━━━━━━━━━━\u001b[0m\u001b[37m\u001b[0m \u001b[1m1s\u001b[0m 11ms/step - accuracy: 0.7166 - loss: 0.7846 - val_accuracy: 0.6840 - val_loss: 0.8503\n",
      "Epoch 58/121\n",
      "\u001b[1m72/72\u001b[0m \u001b[32m━━━━━━━━━━━━━━━━━━━━\u001b[0m\u001b[37m\u001b[0m \u001b[1m1s\u001b[0m 10ms/step - accuracy: 0.7452 - loss: 0.7057 - val_accuracy: 0.7361 - val_loss: 0.7464\n",
      "Epoch 59/121\n",
      "\u001b[1m72/72\u001b[0m \u001b[32m━━━━━━━━━━━━━━━━━━━━\u001b[0m\u001b[37m\u001b[0m \u001b[1m1s\u001b[0m 10ms/step - accuracy: 0.7526 - loss: 0.7014 - val_accuracy: 0.7361 - val_loss: 0.7382\n",
      "Epoch 60/121\n",
      "\u001b[1m72/72\u001b[0m \u001b[32m━━━━━━━━━━━━━━━━━━━━\u001b[0m\u001b[37m\u001b[0m \u001b[1m1s\u001b[0m 11ms/step - accuracy: 0.7591 - loss: 0.6803 - val_accuracy: 0.7153 - val_loss: 0.8216\n",
      "Epoch 61/121\n",
      "\u001b[1m72/72\u001b[0m \u001b[32m━━━━━━━━━━━━━━━━━━━━\u001b[0m\u001b[37m\u001b[0m \u001b[1m1s\u001b[0m 10ms/step - accuracy: 0.7361 - loss: 0.7742 - val_accuracy: 0.7118 - val_loss: 0.8361\n",
      "Epoch 62/121\n",
      "\u001b[1m72/72\u001b[0m \u001b[32m━━━━━━━━━━━━━━━━━━━━\u001b[0m\u001b[37m\u001b[0m \u001b[1m1s\u001b[0m 11ms/step - accuracy: 0.7582 - loss: 0.6897 - val_accuracy: 0.7708 - val_loss: 0.7115\n",
      "Epoch 63/121\n",
      "\u001b[1m72/72\u001b[0m \u001b[32m━━━━━━━━━━━━━━━━━━━━\u001b[0m\u001b[37m\u001b[0m \u001b[1m1s\u001b[0m 11ms/step - accuracy: 0.6710 - loss: 0.9299 - val_accuracy: 0.6944 - val_loss: 0.8852\n",
      "Epoch 64/121\n",
      "\u001b[1m72/72\u001b[0m \u001b[32m━━━━━━━━━━━━━━━━━━━━\u001b[0m\u001b[37m\u001b[0m \u001b[1m1s\u001b[0m 11ms/step - accuracy: 0.7244 - loss: 0.8107 - val_accuracy: 0.6979 - val_loss: 0.8580\n",
      "Epoch 65/121\n",
      "\u001b[1m72/72\u001b[0m \u001b[32m━━━━━━━━━━━━━━━━━━━━\u001b[0m\u001b[37m\u001b[0m \u001b[1m1s\u001b[0m 10ms/step - accuracy: 0.7804 - loss: 0.6458 - val_accuracy: 0.7778 - val_loss: 0.6483\n",
      "Epoch 66/121\n",
      "\u001b[1m72/72\u001b[0m \u001b[32m━━━━━━━━━━━━━━━━━━━━\u001b[0m\u001b[37m\u001b[0m \u001b[1m1s\u001b[0m 10ms/step - accuracy: 0.7986 - loss: 0.5726 - val_accuracy: 0.8299 - val_loss: 0.5410\n",
      "Epoch 67/121\n",
      "\u001b[1m72/72\u001b[0m \u001b[32m━━━━━━━━━━━━━━━━━━━━\u001b[0m\u001b[37m\u001b[0m \u001b[1m1s\u001b[0m 11ms/step - accuracy: 0.8207 - loss: 0.5222 - val_accuracy: 0.7986 - val_loss: 0.5806\n",
      "Epoch 68/121\n",
      "\u001b[1m72/72\u001b[0m \u001b[32m━━━━━━━━━━━━━━━━━━━━\u001b[0m\u001b[37m\u001b[0m \u001b[1m1s\u001b[0m 10ms/step - accuracy: 0.8012 - loss: 0.5970 - val_accuracy: 0.7882 - val_loss: 0.6786\n",
      "Epoch 69/121\n",
      "\u001b[1m72/72\u001b[0m \u001b[32m━━━━━━━━━━━━━━━━━━━━\u001b[0m\u001b[37m\u001b[0m \u001b[1m1s\u001b[0m 11ms/step - accuracy: 0.7977 - loss: 0.5954 - val_accuracy: 0.8264 - val_loss: 0.5480\n",
      "Epoch 70/121\n",
      "\u001b[1m72/72\u001b[0m \u001b[32m━━━━━━━━━━━━━━━━━━━━\u001b[0m\u001b[37m\u001b[0m \u001b[1m1s\u001b[0m 11ms/step - accuracy: 0.8129 - loss: 0.5207 - val_accuracy: 0.8229 - val_loss: 0.4601\n",
      "Epoch 71/121\n",
      "\u001b[1m72/72\u001b[0m \u001b[32m━━━━━━━━━━━━━━━━━━━━\u001b[0m\u001b[37m\u001b[0m \u001b[1m1s\u001b[0m 10ms/step - accuracy: 0.8207 - loss: 0.4892 - val_accuracy: 0.8160 - val_loss: 0.5314\n",
      "Epoch 72/121\n",
      "\u001b[1m72/72\u001b[0m \u001b[32m━━━━━━━━━━━━━━━━━━━━\u001b[0m\u001b[37m\u001b[0m \u001b[1m1s\u001b[0m 11ms/step - accuracy: 0.8060 - loss: 0.5893 - val_accuracy: 0.7188 - val_loss: 0.8067\n",
      "Epoch 73/121\n",
      "\u001b[1m72/72\u001b[0m \u001b[32m━━━━━━━━━━━━━━━━━━━━\u001b[0m\u001b[37m\u001b[0m \u001b[1m1s\u001b[0m 11ms/step - accuracy: 0.8016 - loss: 0.5799 - val_accuracy: 0.8160 - val_loss: 0.5226\n",
      "Epoch 74/121\n",
      "\u001b[1m72/72\u001b[0m \u001b[32m━━━━━━━━━━━━━━━━━━━━\u001b[0m\u001b[37m\u001b[0m \u001b[1m1s\u001b[0m 10ms/step - accuracy: 0.8359 - loss: 0.5062 - val_accuracy: 0.8229 - val_loss: 0.4895\n",
      "Epoch 75/121\n",
      "\u001b[1m72/72\u001b[0m \u001b[32m━━━━━━━━━━━━━━━━━━━━\u001b[0m\u001b[37m\u001b[0m \u001b[1m1s\u001b[0m 11ms/step - accuracy: 0.8429 - loss: 0.4548 - val_accuracy: 0.8472 - val_loss: 0.4384\n",
      "Epoch 76/121\n",
      "\u001b[1m72/72\u001b[0m \u001b[32m━━━━━━━━━━━━━━━━━━━━\u001b[0m\u001b[37m\u001b[0m \u001b[1m1s\u001b[0m 11ms/step - accuracy: 0.8759 - loss: 0.3728 - val_accuracy: 0.8646 - val_loss: 0.3675\n",
      "Epoch 77/121\n",
      "\u001b[1m72/72\u001b[0m \u001b[32m━━━━━━━━━━━━━━━━━━━━\u001b[0m\u001b[37m\u001b[0m \u001b[1m1s\u001b[0m 10ms/step - accuracy: 0.8715 - loss: 0.3711 - val_accuracy: 0.8889 - val_loss: 0.3383\n",
      "Epoch 78/121\n",
      "\u001b[1m72/72\u001b[0m \u001b[32m━━━━━━━━━━━━━━━━━━━━\u001b[0m\u001b[37m\u001b[0m \u001b[1m1s\u001b[0m 10ms/step - accuracy: 0.8724 - loss: 0.3594 - val_accuracy: 0.8785 - val_loss: 0.3417\n",
      "Epoch 79/121\n",
      "\u001b[1m72/72\u001b[0m \u001b[32m━━━━━━━━━━━━━━━━━━━━\u001b[0m\u001b[37m\u001b[0m \u001b[1m1s\u001b[0m 13ms/step - accuracy: 0.8689 - loss: 0.4042 - val_accuracy: 0.8160 - val_loss: 0.4770\n",
      "Epoch 80/121\n",
      "\u001b[1m72/72\u001b[0m \u001b[32m━━━━━━━━━━━━━━━━━━━━\u001b[0m\u001b[37m\u001b[0m \u001b[1m1s\u001b[0m 12ms/step - accuracy: 0.8594 - loss: 0.4101 - val_accuracy: 0.8507 - val_loss: 0.3679\n",
      "Epoch 81/121\n",
      "\u001b[1m72/72\u001b[0m \u001b[32m━━━━━━━━━━━━━━━━━━━━\u001b[0m\u001b[37m\u001b[0m \u001b[1m1s\u001b[0m 12ms/step - accuracy: 0.8720 - loss: 0.3813 - val_accuracy: 0.8542 - val_loss: 0.3713\n",
      "Epoch 82/121\n",
      "\u001b[1m72/72\u001b[0m \u001b[32m━━━━━━━━━━━━━━━━━━━━\u001b[0m\u001b[37m\u001b[0m \u001b[1m1s\u001b[0m 11ms/step - accuracy: 0.8819 - loss: 0.3464 - val_accuracy: 0.8438 - val_loss: 0.4108\n",
      "Epoch 83/121\n",
      "\u001b[1m72/72\u001b[0m \u001b[32m━━━━━━━━━━━━━━━━━━━━\u001b[0m\u001b[37m\u001b[0m \u001b[1m1s\u001b[0m 12ms/step - accuracy: 0.8780 - loss: 0.3942 - val_accuracy: 0.8715 - val_loss: 0.3950\n",
      "Epoch 84/121\n",
      "\u001b[1m72/72\u001b[0m \u001b[32m━━━━━━━━━━━━━━━━━━━━\u001b[0m\u001b[37m\u001b[0m \u001b[1m1s\u001b[0m 12ms/step - accuracy: 0.8863 - loss: 0.3317 - val_accuracy: 0.8854 - val_loss: 0.3258\n",
      "Epoch 85/121\n",
      "\u001b[1m72/72\u001b[0m \u001b[32m━━━━━━━━━━━━━━━━━━━━\u001b[0m\u001b[37m\u001b[0m \u001b[1m1s\u001b[0m 11ms/step - accuracy: 0.9089 - loss: 0.2892 - val_accuracy: 0.8854 - val_loss: 0.3045\n",
      "Epoch 86/121\n",
      "\u001b[1m72/72\u001b[0m \u001b[32m━━━━━━━━━━━━━━━━━━━━\u001b[0m\u001b[37m\u001b[0m \u001b[1m1s\u001b[0m 12ms/step - accuracy: 0.8863 - loss: 0.3483 - val_accuracy: 0.8854 - val_loss: 0.3097\n",
      "Epoch 87/121\n",
      "\u001b[1m72/72\u001b[0m \u001b[32m━━━━━━━━━━━━━━━━━━━━\u001b[0m\u001b[37m\u001b[0m \u001b[1m1s\u001b[0m 12ms/step - accuracy: 0.9002 - loss: 0.2985 - val_accuracy: 0.8993 - val_loss: 0.2983\n",
      "Epoch 88/121\n",
      "\u001b[1m72/72\u001b[0m \u001b[32m━━━━━━━━━━━━━━━━━━━━\u001b[0m\u001b[37m\u001b[0m \u001b[1m1s\u001b[0m 11ms/step - accuracy: 0.9084 - loss: 0.2718 - val_accuracy: 0.9201 - val_loss: 0.2602\n",
      "Epoch 89/121\n",
      "\u001b[1m72/72\u001b[0m \u001b[32m━━━━━━━━━━━━━━━━━━━━\u001b[0m\u001b[37m\u001b[0m \u001b[1m1s\u001b[0m 12ms/step - accuracy: 0.9058 - loss: 0.3027 - val_accuracy: 0.9271 - val_loss: 0.2424\n",
      "Epoch 90/121\n",
      "\u001b[1m72/72\u001b[0m \u001b[32m━━━━━━━━━━━━━━━━━━━━\u001b[0m\u001b[37m\u001b[0m \u001b[1m1s\u001b[0m 12ms/step - accuracy: 0.9284 - loss: 0.2149 - val_accuracy: 0.9410 - val_loss: 0.1615\n",
      "Epoch 91/121\n",
      "\u001b[1m72/72\u001b[0m \u001b[32m━━━━━━━━━━━━━━━━━━━━\u001b[0m\u001b[37m\u001b[0m \u001b[1m1s\u001b[0m 12ms/step - accuracy: 0.9240 - loss: 0.2658 - val_accuracy: 0.9097 - val_loss: 0.2648\n",
      "Epoch 92/121\n",
      "\u001b[1m72/72\u001b[0m \u001b[32m━━━━━━━━━━━━━━━━━━━━\u001b[0m\u001b[37m\u001b[0m \u001b[1m1s\u001b[0m 13ms/step - accuracy: 0.8720 - loss: 0.4464 - val_accuracy: 0.8958 - val_loss: 0.2756\n",
      "Epoch 93/121\n",
      "\u001b[1m72/72\u001b[0m \u001b[32m━━━━━━━━━━━━━━━━━━━━\u001b[0m\u001b[37m\u001b[0m \u001b[1m1s\u001b[0m 13ms/step - accuracy: 0.8902 - loss: 0.3570 - val_accuracy: 0.8715 - val_loss: 0.3240\n",
      "Epoch 94/121\n",
      "\u001b[1m72/72\u001b[0m \u001b[32m━━━━━━━━━━━━━━━━━━━━\u001b[0m\u001b[37m\u001b[0m \u001b[1m1s\u001b[0m 12ms/step - accuracy: 0.8867 - loss: 0.3481 - val_accuracy: 0.9062 - val_loss: 0.3115\n",
      "Epoch 95/121\n",
      "\u001b[1m72/72\u001b[0m \u001b[32m━━━━━━━━━━━━━━━━━━━━\u001b[0m\u001b[37m\u001b[0m \u001b[1m1s\u001b[0m 12ms/step - accuracy: 0.9180 - loss: 0.2591 - val_accuracy: 0.9549 - val_loss: 0.1468\n",
      "Epoch 96/121\n",
      "\u001b[1m72/72\u001b[0m \u001b[32m━━━━━━━━━━━━━━━━━━━━\u001b[0m\u001b[37m\u001b[0m \u001b[1m1s\u001b[0m 12ms/step - accuracy: 0.9262 - loss: 0.2339 - val_accuracy: 0.9410 - val_loss: 0.1581\n",
      "Epoch 97/121\n",
      "\u001b[1m72/72\u001b[0m \u001b[32m━━━━━━━━━━━━━━━━━━━━\u001b[0m\u001b[37m\u001b[0m \u001b[1m1s\u001b[0m 12ms/step - accuracy: 0.8819 - loss: 0.4495 - val_accuracy: 0.7951 - val_loss: 0.6003\n",
      "Epoch 98/121\n",
      "\u001b[1m72/72\u001b[0m \u001b[32m━━━━━━━━━━━━━━━━━━━━\u001b[0m\u001b[37m\u001b[0m \u001b[1m1s\u001b[0m 12ms/step - accuracy: 0.8806 - loss: 0.3779 - val_accuracy: 0.9444 - val_loss: 0.1726\n",
      "Epoch 99/121\n",
      "\u001b[1m72/72\u001b[0m \u001b[32m━━━━━━━━━━━━━━━━━━━━\u001b[0m\u001b[37m\u001b[0m \u001b[1m1s\u001b[0m 12ms/step - accuracy: 0.9436 - loss: 0.1936 - val_accuracy: 0.9688 - val_loss: 0.1203\n",
      "Epoch 100/121\n",
      "\u001b[1m72/72\u001b[0m \u001b[32m━━━━━━━━━━━━━━━━━━━━\u001b[0m\u001b[37m\u001b[0m \u001b[1m1s\u001b[0m 12ms/step - accuracy: 0.9531 - loss: 0.1557 - val_accuracy: 0.9618 - val_loss: 0.1416\n",
      "Epoch 101/121\n",
      "\u001b[1m72/72\u001b[0m \u001b[32m━━━━━━━━━━━━━━━━━━━━\u001b[0m\u001b[37m\u001b[0m \u001b[1m1s\u001b[0m 12ms/step - accuracy: 0.9531 - loss: 0.1513 - val_accuracy: 0.9306 - val_loss: 0.2387\n",
      "Epoch 102/121\n",
      "\u001b[1m72/72\u001b[0m \u001b[32m━━━━━━━━━━━━━━━━━━━━\u001b[0m\u001b[37m\u001b[0m \u001b[1m1s\u001b[0m 12ms/step - accuracy: 0.9071 - loss: 0.3245 - val_accuracy: 0.8889 - val_loss: 0.4003\n",
      "Epoch 103/121\n",
      "\u001b[1m72/72\u001b[0m \u001b[32m━━━━━━━━━━━━━━━━━━━━\u001b[0m\u001b[37m\u001b[0m \u001b[1m1s\u001b[0m 13ms/step - accuracy: 0.9145 - loss: 0.2854 - val_accuracy: 0.9306 - val_loss: 0.2210\n",
      "Epoch 104/121\n",
      "\u001b[1m72/72\u001b[0m \u001b[32m━━━━━━━━━━━━━━━━━━━━\u001b[0m\u001b[37m\u001b[0m \u001b[1m1s\u001b[0m 12ms/step - accuracy: 0.9405 - loss: 0.2163 - val_accuracy: 0.9618 - val_loss: 0.1051\n",
      "Epoch 105/121\n",
      "\u001b[1m72/72\u001b[0m \u001b[32m━━━━━━━━━━━━━━━━━━━━\u001b[0m\u001b[37m\u001b[0m \u001b[1m1s\u001b[0m 12ms/step - accuracy: 0.9583 - loss: 0.1351 - val_accuracy: 0.9757 - val_loss: 0.0890\n",
      "Epoch 106/121\n",
      "\u001b[1m72/72\u001b[0m \u001b[32m━━━━━━━━━━━━━━━━━━━━\u001b[0m\u001b[37m\u001b[0m \u001b[1m1s\u001b[0m 13ms/step - accuracy: 0.9640 - loss: 0.1231 - val_accuracy: 0.9757 - val_loss: 0.0792\n",
      "Epoch 107/121\n",
      "\u001b[1m72/72\u001b[0m \u001b[32m━━━━━━━━━━━━━━━━━━━━\u001b[0m\u001b[37m\u001b[0m \u001b[1m1s\u001b[0m 12ms/step - accuracy: 0.9657 - loss: 0.1147 - val_accuracy: 0.9792 - val_loss: 0.0653\n",
      "Epoch 108/121\n",
      "\u001b[1m72/72\u001b[0m \u001b[32m━━━━━━━━━━━━━━━━━━━━\u001b[0m\u001b[37m\u001b[0m \u001b[1m1s\u001b[0m 12ms/step - accuracy: 0.9523 - loss: 0.1555 - val_accuracy: 0.9583 - val_loss: 0.1302\n",
      "Epoch 109/121\n",
      "\u001b[1m72/72\u001b[0m \u001b[32m━━━━━━━━━━━━━━━━━━━━\u001b[0m\u001b[37m\u001b[0m \u001b[1m1s\u001b[0m 11ms/step - accuracy: 0.9171 - loss: 0.2965 - val_accuracy: 0.9028 - val_loss: 0.3417\n",
      "Epoch 110/121\n",
      "\u001b[1m72/72\u001b[0m \u001b[32m━━━━━━━━━━━━━━━━━━━━\u001b[0m\u001b[37m\u001b[0m \u001b[1m1s\u001b[0m 11ms/step - accuracy: 0.8750 - loss: 0.4406 - val_accuracy: 0.9340 - val_loss: 0.2003\n",
      "Epoch 111/121\n",
      "\u001b[1m72/72\u001b[0m \u001b[32m━━━━━━━━━━━━━━━━━━━━\u001b[0m\u001b[37m\u001b[0m \u001b[1m1s\u001b[0m 11ms/step - accuracy: 0.9245 - loss: 0.2439 - val_accuracy: 0.9444 - val_loss: 0.1905\n",
      "Epoch 112/121\n",
      "\u001b[1m72/72\u001b[0m \u001b[32m━━━━━━━━━━━━━━━━━━━━\u001b[0m\u001b[37m\u001b[0m \u001b[1m1s\u001b[0m 11ms/step - accuracy: 0.9531 - loss: 0.1743 - val_accuracy: 0.9583 - val_loss: 0.1821\n",
      "Epoch 113/121\n",
      "\u001b[1m72/72\u001b[0m \u001b[32m━━━━━━━━━━━━━━━━━━━━\u001b[0m\u001b[37m\u001b[0m \u001b[1m1s\u001b[0m 10ms/step - accuracy: 0.9488 - loss: 0.1769 - val_accuracy: 0.9688 - val_loss: 0.1248\n",
      "Epoch 114/121\n",
      "\u001b[1m72/72\u001b[0m \u001b[32m━━━━━━━━━━━━━━━━━━━━\u001b[0m\u001b[37m\u001b[0m \u001b[1m1s\u001b[0m 11ms/step - accuracy: 0.9449 - loss: 0.2082 - val_accuracy: 0.9549 - val_loss: 0.1905\n",
      "Epoch 115/121\n",
      "\u001b[1m72/72\u001b[0m \u001b[32m━━━━━━━━━━━━━━━━━━━━\u001b[0m\u001b[37m\u001b[0m \u001b[1m1s\u001b[0m 11ms/step - accuracy: 0.9023 - loss: 0.3460 - val_accuracy: 0.9375 - val_loss: 0.2727\n",
      "Epoch 116/121\n",
      "\u001b[1m72/72\u001b[0m \u001b[32m━━━━━━━━━━━━━━━━━━━━\u001b[0m\u001b[37m\u001b[0m \u001b[1m1s\u001b[0m 11ms/step - accuracy: 0.9353 - loss: 0.2207 - val_accuracy: 0.9792 - val_loss: 0.0822\n",
      "Epoch 117/121\n",
      "\u001b[1m72/72\u001b[0m \u001b[32m━━━━━━━━━━━━━━━━━━━━\u001b[0m\u001b[37m\u001b[0m \u001b[1m1s\u001b[0m 11ms/step - accuracy: 0.9618 - loss: 0.1441 - val_accuracy: 0.9757 - val_loss: 0.0598\n",
      "Epoch 118/121\n",
      "\u001b[1m72/72\u001b[0m \u001b[32m━━━━━━━━━━━━━━━━━━━━\u001b[0m\u001b[37m\u001b[0m \u001b[1m1s\u001b[0m 11ms/step - accuracy: 0.9674 - loss: 0.1168 - val_accuracy: 0.9826 - val_loss: 0.0725\n",
      "Epoch 119/121\n",
      "\u001b[1m72/72\u001b[0m \u001b[32m━━━━━━━━━━━━━━━━━━━━\u001b[0m\u001b[37m\u001b[0m \u001b[1m1s\u001b[0m 11ms/step - accuracy: 0.9692 - loss: 0.1223 - val_accuracy: 0.9826 - val_loss: 0.0477\n",
      "Epoch 120/121\n",
      "\u001b[1m72/72\u001b[0m \u001b[32m━━━━━━━━━━━━━━━━━━━━\u001b[0m\u001b[37m\u001b[0m \u001b[1m1s\u001b[0m 11ms/step - accuracy: 0.9696 - loss: 0.1105 - val_accuracy: 0.9861 - val_loss: 0.0471\n",
      "Epoch 121/121\n",
      "\u001b[1m72/72\u001b[0m \u001b[32m━━━━━━━━━━━━━━━━━━━━\u001b[0m\u001b[37m\u001b[0m \u001b[1m1s\u001b[0m 11ms/step - accuracy: 0.9705 - loss: 0.0997 - val_accuracy: 0.9896 - val_loss: 0.0345\n"
     ]
    }
   ],
   "source": [
    "LSTM_model_history = LSTM_model.fit(np.expand_dims(ravdess_speech_data_array[:training_samples],-1), \n",
    "                                    labels_categorical[:training_samples], \n",
    "                                    validation_data=(np.expand_dims(ravdess_speech_data_array[training_samples:training_samples+validation_samples], -1), \n",
    "                                                                                            labels_categorical[training_samples:training_samples+validation_samples]), epochs=121, shuffle=True)"
   ]
  },
  {
   "cell_type": "markdown",
   "id": "ba49b50a-536e-4b22-be20-ed6be764bddf",
   "metadata": {},
   "source": [
    "In my Real-Time Speech Emotion Recognition project, I am training my LSTM model using the `fit` method. Here's a breakdown of what each part of the code does:\n",
    "\n",
    "- `np.expand_dims(ravdess_speech_data_array[:training_samples], -1)`: I am expanding the dimensions of the training data to make it compatible with the LSTM model, which expects a 3D input shape. The `-1` argument adds an extra dimension at the end.\n",
    "\n",
    "- `labels_categorical[:training_samples]`: These are the corresponding categorical emotion labels for the training data.\n",
    "\n",
    "- `validation_data=(np.expand_dims(ravdess_speech_data_array[training_samples:training_samples+validation_samples], -1), labels_categorical[training_samples:training_samples+validation_samples])`: Similar to the training data, I prepare the validation data with its corresponding labels.\n",
    "\n",
    "- `epochs=121`: I have chosen to train the model for 121 epochs. Adjust this value based on your specific training requirements.\n",
    "\n",
    "- `shuffle=True`: I shuffle the training data during each epoch to introduce randomness and prevent the model from memorizing the order of the data.\n",
    "\n",
    "The training history (`LSTM_model_history`) is stored, containing information about the training and validation metrics for each epoch. This information is useful for evaluating the model's performance and making decisions about further training or adjustments."
   ]
  },
  {
   "cell_type": "markdown",
   "id": "3873ae0d-37a9-4300-8d4c-cf86daaa57f2",
   "metadata": {},
   "source": [
    "## Visualizing the Training Loss and Accuracy"
   ]
  },
  {
   "cell_type": "code",
   "execution_count": 9,
   "id": "c054ba71-60c3-4a68-b364-0bdd4cf0086d",
   "metadata": {},
   "outputs": [],
   "source": [
    "def plot_metric(model_training_history, metric_name_1, metric_name_2, plot_name):\n",
    "    '''\n",
    "    This function is designed to create a graph displaying the provided metrics.\n",
    "    Parameters:\n",
    "        model_training_history: A history object containing recorded training and validation \n",
    "                                loss values and metric values across consecutive epochs.\n",
    "        metric_name_1:          The name of the first metric to be visualized in the graph.\n",
    "        metric_name_2:          The name of the second metric to be visualized in the graph.\n",
    "        plot_name:              The title of the graph.\n",
    "    '''\n",
    "    # Extract metric values from the training history.\n",
    "    metric_value_1 = model_training_history.history[metric_name_1]\n",
    "    metric_value_2 = model_training_history.history[metric_name_2]\n",
    "    \n",
    "    # Generate a range of epochs for x-axis.\n",
    "    epochs = range(len(metric_value_1))\n",
    "    \n",
    "    # Plot the first metric in blue.\n",
    "    plt.plot(epochs, metric_value_1, 'blue', label=metric_name_1)\n",
    "    \n",
    "    # Plot the second metric in red.\n",
    "    plt.plot(epochs, metric_value_2, 'red', label=metric_name_2)\n",
    "    \n",
    "    # Set the title of the graph.\n",
    "    plt.title(str(plot_name))\n",
    "    \n",
    "    # Add a legend to the graph.\n",
    "    plt.legend()"
   ]
  },
  {
   "cell_type": "code",
   "execution_count": 10,
   "id": "09d4f34b-4421-4e9a-94a8-d588a13284ca",
   "metadata": {},
   "outputs": [
    {
     "data": {
      "image/png": "[encoded data removed]",
      "text/plain": [
       "<Figure size 640x480 with 1 Axes>"
      ]
     },
     "metadata": {},
     "output_type": "display_data"
    }
   ],
   "source": [
    "# Plot the training and validation loss metrics for visualization.\n",
    "plot_metric(LSTM_model_history, 'loss', 'val_loss', 'Total Loss vs Total Validation Loss')"
   ]
  },
  {
   "cell_type": "code",
   "execution_count": 11,
   "id": "d90d1d00-5b57-481c-b4ba-4d0d4e8963b2",
   "metadata": {},
   "outputs": [
    {
     "data": {
      "image/png": "[encoded data removed]",
      "text/plain": [
       "<Figure size 640x480 with 1 Axes>"
      ]
     },
     "metadata": {},
     "output_type": "display_data"
    }
   ],
   "source": [
    "# Plot the training and validation loss metrics for visualization.\n",
    "plot_metric(LSTM_model_history, 'accuracy', 'val_accuracy', 'Total Accuracy vs Total Validation Accuracy')"
   ]
  },
  {
   "cell_type": "markdown",
   "id": "253124c8-2e0d-486f-9de9-35bfe6a3f465",
   "metadata": {},
   "source": [
    "## Assesing the Trained LSTM Model"
   ]
  },
  {
   "cell_type": "code",
   "execution_count": 12,
   "id": "9304a7ca-0a1e-4b8f-9c9c-c5592c2daed6",
   "metadata": {},
   "outputs": [
    {
     "name": "stdout",
     "output_type": "stream",
     "text": [
      "\u001b[1m9/9\u001b[0m \u001b[32m━━━━━━━━━━━━━━━━━━━━\u001b[0m\u001b[37m\u001b[0m \u001b[1m0s\u001b[0m 7ms/step - accuracy: 0.9792 - loss: 0.0712 \n"
     ]
    }
   ],
   "source": [
    "model_evaluation_history = LSTM_model.evaluate(np.expand_dims(ravdess_speech_data_array[training_samples + validation_samples:], -1), \n",
    "                                               labels_categorical[training_samples + validation_samples:])"
   ]
  },
  {
   "cell_type": "markdown",
   "id": "80ae5106-7eaa-476a-b726-397736dfa69f",
   "metadata": {},
   "source": [
    "After training my LSTM model, I'm evaluating its performance on a separate set of data using the `evaluate` method. Let me explain this part of the code:\n",
    "\n",
    "- `np.expand_dims(ravdess_speech_data_array[training_samples + validation_samples:], -1)`: I'm expanding the dimensions of the evaluation data similarly to how I did during training. This ensures compatibility with the LSTM model, which expects 3D input.\n",
    "\n",
    "- `labels_categorical[training_samples + validation_samples:]`: These are the corresponding categorical emotion labels for the evaluation data.\n",
    "\n",
    "(`9/9 [==============================] - 1s 21ms/step - loss: 0.0434 - accuracy: 0.9861`) is the result of the evaluation:\n",
    "\n",
    "- `9/9`: It indicates that the evaluation was performed on 9 batches.\n",
    "\n",
    "- `[==============================]`: This visual representation shows the progress of evaluating the batches.\n",
    "\n",
    "- `- 1s 21ms/step`: It took approximately 1 second to evaluate each step, with each step corresponding to one batch.\n",
    "\n",
    "- `loss: 0.0434`: The calculated loss on the evaluation data is 0.0434. This metric indicates how well the model is performing, with lower values being better.\n",
    "\n",
    "- `accuracy: 0.9861`: The accuracy of the model on the evaluation data is 98.61%. This represents the proportion of correctly classified instances, a key metric for assessing the model's performance."
   ]
  },
  {
   "cell_type": "markdown",
   "id": "aa8f099e-49c9-42e9-a306-d693cdb052a5",
   "metadata": {},
   "source": [
    "## Saving the LSTM Model"
   ]
  },
  {
   "cell_type": "code",
   "execution_count": 13,
   "id": "cabe7ae8-05c8-436c-9466-9445ff04a54f",
   "metadata": {},
   "outputs": [
    {
     "name": "stderr",
     "output_type": "stream",
     "text": [
      "WARNING:absl:You are saving your model as an HDF5 file via `model.save()` or `keras.saving.save_model(model)`. This file format is considered legacy. We recommend using instead the native Keras format, e.g. `model.save('my_model.keras')` or `keras.saving.save_model(model, 'my_model.keras')`. \n"
     ]
    },
    {
     "name": "stdout",
     "output_type": "stream",
     "text": [
      "Model saved successfully.\n"
     ]
    }
   ],
   "source": [
    "import datetime as dt\n",
    "\n",
    "# Retrieve loss and accuracy from the model evaluation history.\n",
    "model_evaluation_loss, model_evaluation_accuracy = model_evaluation_history\n",
    "\n",
    "# Define the date and time format.\n",
    "date_time_format = '%Y_%m_%d_%H_%M_%S'\n",
    "\n",
    "# Obtain the current date and time.\n",
    "current_date_time_dt = dt.datetime.now()\n",
    "\n",
    "# Convert the date and time to a string with the specified format.\n",
    "current_date_time_string = dt.datetime.strftime(current_date_time_dt, date_time_format)\n",
    "\n",
    "# Construct a unique file name based on date, time, loss, and accuracy.\n",
    "model_file_name = f'LSTM_model_Date_Time_{current_date_time_string}___Loss_{model_evaluation_loss}___Accuracy_{model_evaluation_accuracy}.h5'\n",
    "\n",
    "# Save the ConvLSTM model with the generated file name.\n",
    "LSTM_model.save(model_file_name)\n",
    "\n",
    "# Save the trained LSTM model in the new Keras format\n",
    "LSTM_model.save(\"LSTM_model_latest.keras\")\n",
    "print(\"Model saved successfully.\")\n"
   ]
  },
  {
   "cell_type": "markdown",
   "id": "7e3f71a7-82b1-468e-9ceb-75c3bf25716b",
   "metadata": {},
   "source": [
    "After evaluating my LSTM model, I am saving it with a unique file name that includes the current date, time, loss, and accuracy. Let me break down the code:\n",
    "\n",
    "I extract the loss and accuracy values obtained from the model evaluation history, which were calculated during the evaluation step.\n",
    "\n",
    "I define the format in which I want to represent the date and time. In this case, it's a format that includes the year, month, day, hour, minute, and second.\n",
    "\n",
    "I get the current date and time using the `datetime.now()` function from the `datetime` module.\n",
    "\n",
    "I convert the obtained date and time into a string using the specified format.\n",
    "\n",
    "I create a unique file name for the saved model by incorporating the current date, time, evaluation loss, and evaluation accuracy into the string. This ensures that each saved model has a distinct identifier.\n",
    "\n",
    "Finally, I save the trained LSTM model using the generated unique file name. This step is essential for keeping track of model versions and understanding the performance of each model based on its evaluation results."
   ]
  },
  {
   "cell_type": "markdown",
   "id": "bc1797c7-d247-440b-a396-73254c231d7a",
   "metadata": {},
   "source": [
    "## Streamlit User-Friendly Version\n",
    "I have also developed a Streamlit one-click version of the Speech Emotion Recognition model, making it incredibly user-friendly. With this version, users can effortlessly recognize emotions in a speech by simply clicking a single button to upload an audio.\n",
    "\n",
    "To explore the Streamlit version, click this button below:\n",
    " \n",
    "[Speech Emotion Recognition](https://speech-emotion-recognition.streamlit.app/)"
   ]
  },
  {
   "cell_type": "markdown",
   "id": "462e980e",
   "metadata": {},
   "source": []
  },
  {
   "cell_type": "code",
   "execution_count": 14,
   "id": "92093e09-211a-49e2-9e8d-95201be98432",
   "metadata": {},
   "outputs": [
    {
     "ename": "AttributeError",
     "evalue": "type object 'LSTM' has no attribute 'model'",
     "output_type": "error",
     "traceback": [
      "\u001b[31m---------------------------------------------------------------------------\u001b[39m",
      "\u001b[31mAttributeError\u001b[39m                            Traceback (most recent call last)",
      "\u001b[36mCell\u001b[39m\u001b[36m \u001b[39m\u001b[32mIn[14]\u001b[39m\u001b[32m, line 2\u001b[39m\n\u001b[32m      1\u001b[39m \u001b[38;5;66;03m# Re-save the trained model in the new Keras format\u001b[39;00m\n\u001b[32m----> \u001b[39m\u001b[32m2\u001b[39m \u001b[43mLSTM\u001b[49m\u001b[43m.\u001b[49m\u001b[43mmodel\u001b[49m.save(\u001b[33m\"\u001b[39m\u001b[33mLSTM_model_latest.keras\u001b[39m\u001b[33m\"\u001b[39m)  \u001b[38;5;66;03m# you can choose any name\u001b[39;00m\n\u001b[32m      3\u001b[39m \u001b[38;5;28mprint\u001b[39m(\u001b[33m\"\u001b[39m\u001b[33mModel saved as LSTM_model_latest.keras\u001b[39m\u001b[33m\"\u001b[39m)\n",
      "\u001b[31mAttributeError\u001b[39m: type object 'LSTM' has no attribute 'model'"
     ]
    }
   ],
   "source": [
    "# Re-save the trained model in the new Keras format\n",
    "LSTM.model.save(\"LSTM_model_latest.keras\")  # you can choose any name\n",
    "print(\"Model saved as LSTM_model_latest.keras\")\n"
   ]
  },
  {
   "cell_type": "code",
   "execution_count": null,
   "id": "a9d5b37a-a560-4294-8753-d8b2e0a758bb",
   "metadata": {},
   "outputs": [],
   "source": []
  },
  {
   "cell_type": "code",
   "execution_count": null,
   "id": "2accbdca-1c10-4523-be34-9dfa896434d4",
   "metadata": {},
   "outputs": [],
   "source": []
  }
 ],
 "metadata": {
  "kernelspec": {
   "display_name": "Python 3 (ipykernel)",
   "language": "python",
   "name": "python3"
  },
  "language_info": {
   "codemirror_mode": {
    "name": "ipython",
    "version": 3
   },
   "file_extension": ".py",
   "mimetype": "text/x-python",
   "name": "python",
   "nbconvert_exporter": "python",
   "pygments_lexer": "ipython3",
   "version": "3.12.8"
  }
 },
 "nbformat": 4,
 "nbformat_minor": 5
}
